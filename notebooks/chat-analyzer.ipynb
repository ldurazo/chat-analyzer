{
 "cells": [
  {
   "cell_type": "markdown",
   "source": [
    "### Telegram chat analysis\n",
    "#### author: Luis Durazo (github.com/ldurazo)\n",
    "\n",
    "This project will analyze any telegram chat and give you some curious, fun and sometimes meaningful information\n",
    "\n",
    "First, load the dataframe from the data folder."
   ],
   "metadata": {
    "collapsed": false
   }
  },
  {
   "cell_type": "code",
   "execution_count": null,
   "outputs": [],
   "source": [
    "import pandas as pd\n",
    "df = pd.read_json('../data/telegram.json', dtype={'from_id': str})\n",
    "df.info()"
   ],
   "metadata": {
    "collapsed": false,
    "pycharm": {
     "name": "#%%\n"
    }
   }
  },
  {
   "cell_type": "markdown",
   "source": [
    "Get all unique users."
   ],
   "metadata": {
    "collapsed": false
   }
  },
  {
   "cell_type": "code",
   "execution_count": null,
   "outputs": [],
   "source": [
    "df.get(['from_id', 'from']).groupby(['from_id']).apply(print)"
   ],
   "metadata": {
    "collapsed": false,
    "pycharm": {
     "name": "#%%\n"
    }
   }
  },
  {
   "cell_type": "markdown",
   "source": [
    "2020/10/2 Observations with Telegram group (id's have been hidden and stored elsewhere):\n",
    "- id: xxxxxxxxxx (Ma) - 29298\n",
    "- id: xxxxxxxxxx (Unknown) - 4 - L\n",
    "- id: xxxxxxxxxx (A) - 34283\n",
    "- id: xxxxxxxxxx (C) - 6201\n",
    "- id: xxxxxxxxxx (D) - 10191\n",
    "- id: xxxxxxxxxx (R) - 17116\n",
    "- id: xxxxxxxxxx (I) - 32889\n",
    "- id: xxxxxxxxxx (Mi) - 18727\n",
    "- id: xxxxxxxxxx (Unknown) - 5817 - W\n",
    "- id: xxxxxxxxxx (L) - 15242\n",
    "- id: xxxxxxxxxx (Unknown) - 3771 - X\n",
    "- id: nan (NaN) - 70\n",
    "\n",
    "With the data above, time to uncover the unknowns so that we keep only the name without the id.\n",
    "By looking at a few data samples the message source were easy to determine:"
   ],
   "metadata": {
    "collapsed": false,
    "pycharm": {
     "name": "#%% md\n"
    }
   }
  },
  {
   "cell_type": "code",
   "execution_count": null,
   "outputs": [],
   "source": [
    "df.loc[df.from_id == 'xxxxxxxxxxxxxx', 'from'] = \"L\"\n",
    "df.loc[df.from_id == 'xxxxxxxxxxxxxx', 'from'] = \"L\"\n",
    "df.loc[df.from_id == 'xxxxxxxxxxxxxx', 'from'] = \"W\"\n",
    "df.loc[df.from_id == 'xxxxxxxxxxxxxx', 'from'] = \"X\"\n",
    "df = df[df.from_id != 'nan'] # This is a telegram service, likely updates"
   ],
   "metadata": {
    "collapsed": false,
    "pycharm": {
     "name": "#%%\n"
    }
   }
  },
  {
   "cell_type": "markdown",
   "source": [
    "Now remove the from_id table, as we have the names:"
   ],
   "metadata": {
    "collapsed": false,
    "pycharm": {
     "name": "#%% md\n"
    }
   }
  },
  {
   "cell_type": "code",
   "execution_count": null,
   "outputs": [],
   "source": [
    "df = df.drop('from_id', axis=1)\n",
    "df.info()"
   ],
   "metadata": {
    "collapsed": false,
    "pycharm": {
     "name": "#%%\n"
    }
   }
  },
  {
   "cell_type": "markdown",
   "source": [
    "Let's take a look at the data again, and see who has the most messages"
   ],
   "metadata": {
    "collapsed": false,
    "pycharm": {
     "name": "#%% md\n"
    }
   }
  },
  {
   "cell_type": "code",
   "execution_count": null,
   "outputs": [],
   "source": [
    "df[['type','from']].groupby(['from']).count().sort_values(['type'], ascending=False)"
   ],
   "metadata": {
    "collapsed": false,
    "pycharm": {
     "name": "#%%\n"
    }
   }
  },
  {
   "cell_type": "markdown",
   "source": [
    "By message type, let's see some charts."
   ],
   "metadata": {
    "collapsed": false,
    "pycharm": {
     "name": "#%% md\n"
    }
   }
  },
  {
   "cell_type": "code",
   "execution_count": null,
   "outputs": [],
   "source": [
    "voice_df = df.loc[df['media_type'] == 'voice_message'][['from', 'id']]\\\n",
    "    .groupby(['from'], as_index=False)\\\n",
    "    .agg('count')\\\n",
    "    .sort_values(['id'], ascending=False)\n",
    "\n",
    "import plotly.express as px\n",
    "fig = px.pie(voice_df, values=voice_df['id'], names=voice_df['from'],\n",
    "             title='Voice messages per person')\n",
    "fig.update_traces(textposition='inside', textinfo='value+label+percent')\n",
    "fig.show()\n",
    "\n",
    "sticker_df = df.loc[df['media_type'] == 'sticker'][['from', 'id']]\\\n",
    "    .groupby(['from'], as_index=False)\\\n",
    "    .agg('count')\\\n",
    "    .sort_values(['id'], ascending=False)\n",
    "\n",
    "import plotly.express as px\n",
    "fig = px.pie(sticker_df, values=sticker_df['id'], names=sticker_df['from'],\n",
    "             title='Stickers sent')\n",
    "fig.update_traces(textposition='inside', textinfo='value+label+percent')\n",
    "fig.show()\n"
   ],
   "metadata": {
    "collapsed": false,
    "pycharm": {
     "name": "#%%\n"
    }
   }
  }
 ],
 "metadata": {
  "kernelspec": {
   "display_name": "Python 3",
   "language": "python",
   "name": "python3"
  },
  "language_info": {
   "codemirror_mode": {
    "name": "ipython",
    "version": 2
   },
   "file_extension": ".py",
   "mimetype": "text/x-python",
   "name": "python",
   "nbconvert_exporter": "python",
   "pygments_lexer": "ipython2",
   "version": "2.7.6"
  }
 },
 "nbformat": 4,
 "nbformat_minor": 0
}