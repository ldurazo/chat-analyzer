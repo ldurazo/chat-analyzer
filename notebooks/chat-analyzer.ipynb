{
 "cells": [
  {
   "cell_type": "markdown",
   "metadata": {},
   "source": [
    "### Telegram chat analysis\n",
    "#### author: Luis Durazo (github.com/ldurazo)\n",
    "\n",
    "This project will analyze any telegram chat and give you some curious, fun and sometimes meaningful information\n",
    "\n",
    "First, load the dataframe from the data folder."
   ]
  },
  {
   "cell_type": "code",
   "execution_count": null,
   "metadata": {
    "pycharm": {
     "name": "#%%\n"
    }
   },
   "outputs": [],
   "source": [
    "import re\n",
    "from collections import Counter\n",
    "import emoji\n",
    "import numpy\n",
    "import pandas as pd\n",
    "from matplotlib import pyplot\n",
    "from wordcloud import WordCloud, STOPWORDS\n",
    "df = pd.read_json('../data/telegram.json', dtype={'from_id': str})\n",
    "df.info()"
   ]
  },
  {
   "cell_type": "markdown",
   "metadata": {},
   "source": [
    "Get all unique users."
   ]
  },
  {
   "cell_type": "code",
   "execution_count": null,
   "metadata": {
    "pycharm": {
     "name": "#%%\n"
    }
   },
   "outputs": [],
   "source": [
    "df.get(['from_id', 'from']).groupby(['from_id']).apply(print)"
   ]
  },
  {
   "cell_type": "markdown",
   "metadata": {
    "pycharm": {
     "name": "#%% md\n"
    }
   },
   "source": [
    "TODO ldurazo: need to find a way to hide this away more effectively.\n",
    "2020/10/2 Observations with Telegram group:\n",
    "- id: x (Ma) - 29298\n",
    "- id: x (Unknown) - 4\n",
    "- id: x (A) - 34283\n",
    "- id: x (C) - 6201\n",
    "- id: x (D) - 10191\n",
    "- id: x (R) - 17116\n",
    "- id: x (I) - 32889\n",
    "- id: x (Mi) - 18727\n",
    "- id: x (Unknown) - 5817\n",
    "- id: x (L) - 15242\n",
    "- id: x (X) - 3771\n",
    "- id: nan (NaN) - 70\n",
    "\n",
    "With the data above, time to uncover the unknowns so that we keep only the name without the id.\n",
    "By looking at a few data samples the message source were easy to determine:"
   ]
  },
  {
   "cell_type": "code",
   "execution_count": null,
   "metadata": {
    "pycharm": {
     "name": "#%%\n"
    }
   },
   "outputs": [],
   "source": [
    "df.loc[df.from_id == 'x.0', 'from'] = \"L\"\n",
    "df.loc[df.from_id == 'x.0', 'from'] = \"W\"\n",
    "df.loc[df.from_id == 'x.0', 'from'] = \"X\"\n",
    "df = df[df.from_id != 'nan'] # This is a telegram service, likely updates"
   ]
  },
  {
   "cell_type": "markdown",
   "metadata": {
    "pycharm": {
     "name": "#%% md\n"
    }
   },
   "source": [
    "Now remove the from_id table, as we have the names:"
   ]
  },
  {
   "cell_type": "code",
   "execution_count": null,
   "metadata": {
    "pycharm": {
     "name": "#%%\n"
    }
   },
   "outputs": [],
   "source": [
    "df = df.drop('from_id', axis=1)\n",
    "df.info()"
   ]
  },
  {
   "cell_type": "markdown",
   "metadata": {
    "pycharm": {
     "name": "#%% md\n"
    }
   },
   "source": [
    "Let's take a look at the data again, and see who has the most messages"
   ]
  },
  {
   "cell_type": "code",
   "execution_count": null,
   "metadata": {
    "pycharm": {
     "name": "#%%\n"
    }
   },
   "outputs": [],
   "source": [
    "df[['type','from']].groupby(['from']).count().sort_values(['type'], ascending=False)"
   ]
  },
  {
   "cell_type": "markdown",
   "metadata": {
    "pycharm": {
     "name": "#%% md\n"
    }
   },
   "source": [
    "What are the message types and their counts?"
   ]
  },
  {
   "cell_type": "code",
   "execution_count": null,
   "metadata": {
    "pycharm": {
     "name": "#%% \n"
    }
   },
   "outputs": [],
   "source": [
    "df[['media_type', 'id']].groupby('media_type', as_index=False).count()"
   ]
  },
  {
   "cell_type": "markdown",
   "metadata": {
    "pycharm": {
     "name": "#%% md\n"
    }
   },
   "source": [
    "By message type, let's see some charts."
   ]
  },
  {
   "cell_type": "code",
   "execution_count": null,
   "metadata": {
    "pycharm": {
     "name": "#%%\n"
    }
   },
   "outputs": [],
   "source": [
    "voice_df = df.loc[df['media_type'] == 'voice_message'][['from', 'id']]\\\n",
    "    .groupby(['from'], as_index=False)\\\n",
    "    .agg('count')\\\n",
    "    .sort_values(['id'], ascending=False)\n",
    "\n",
    "import plotly.express as px\n",
    "fig = px.pie(voice_df, values=voice_df['id'], names=voice_df['from'],\n",
    "             title='Voice messages per person')\n",
    "fig.update_traces(textposition='inside', textinfo='value+label+percent')\n",
    "fig.show()\n",
    "\n",
    "sticker_df = df.loc[df['media_type'] == 'sticker'][['from', 'id']]\\\n",
    "    .groupby(['from'], as_index=False)\\\n",
    "    .agg('count')\\\n",
    "    .sort_values(['id'], ascending=False)\n",
    "\n",
    "import plotly.express as px\n",
    "fig = px.pie(sticker_df, values=sticker_df['id'], names=sticker_df['from'],\n",
    "             title='Stickers sent')\n",
    "fig.update_traces(textposition='inside', textinfo='value+label+percent')\n",
    "fig.show()\n"
   ]
  },
  {
   "cell_type": "markdown",
   "metadata": {
    "pycharm": {
     "name": "#%% md\n"
    }
   },
   "source": [
    "Now we are going to see information about emojis and words used."
   ]
  },
  {
   "cell_type": "code",
   "execution_count": null,
   "metadata": {
    "pycharm": {
     "name": "#%%\n"
    }
   },
   "outputs": [],
   "source": [
    "def get_emojis_in_message(row):\n",
    "    message = row.text\n",
    "    emojis = \"\"\n",
    "    # Telegram may save some messages as json\n",
    "    if message is None or type(message) != str:\n",
    "        return None\n",
    "    return emojis.join(char for char in message if char in emoji.UNICODE_EMOJI)\n",
    "\n",
    "def get_words_count(row):\n",
    "    message = row.text\n",
    "    emojis = \"\"\n",
    "    # Telegram may save some messages as json\n",
    "    if message is None or type(message) != str:\n",
    "        return None\n",
    "    return re.sub(\"[^\\w]\", \" \",  message).split().__len__()\n",
    "\n",
    "df[\"emojis\"] = df[[\"text\"]].apply(get_emojis_in_message, axis=1)\n",
    "df[\"word_count\"] = df[[\"text\"]].apply(get_words_count, axis=1)\n",
    "# df[[\"text\", \"from\", \"id\", \"emojis\", \"word_count\"]].sort_values(['emojis'], ascending=False)"
   ]
  },
  {
   "cell_type": "markdown",
   "metadata": {},
   "source": [
    "Let's get some data about our friends:"
   ]
  },
  {
   "cell_type": "code",
   "execution_count": null,
   "metadata": {},
   "outputs": [],
   "source": [
    "people = df['from'].unique()\n",
    "\n",
    "for name in people:\n",
    "    user_df = df[df[\"from\"] == name]\n",
    "    words_per_message = numpy.sum(user_df['word_count'])\n",
    "    print('stats for ', name)\n",
    "    print(name,' sent  ', int(words_per_message), ' words, average ', words_per_message/user_df.shape[0], ' per message')"
   ]
  },
  {
   "cell_type": "code",
   "execution_count": null,
   "metadata": {
    "pycharm": {
     "name": "#%%\n"
    }
   },
   "outputs": [],
   "source": [
    "total_emojis_list = list(df.emojis)\n",
    "emoji_dict = dict(Counter(total_emojis_list))\n",
    "emoji_dict = sorted(emoji_dict.items(), key=lambda x: x[1], reverse=True)\n",
    "\n",
    "emoji_df = pd.DataFrame(emoji_dict, columns=['emoji', 'count'])\n",
    "emoji_df.replace(to_replace='None', value=numpy.nan).dropna()\n",
    "emoji_df.replace(to_replace=0, value=numpy.nan).dropna()\n",
    "\n",
    "import plotly.express as px\n",
    "fig = px.pie(emoji_df.loc[2:].head(60), values='count', names='emoji',\n",
    "             title='Emoji Distribution')\n",
    "fig.update_traces(textposition='inside', textinfo='percent+label')\n",
    "fig.show()"
   ]
  },
  {
   "cell_type": "markdown",
   "metadata": {},
   "source": [
    "Let's find out about the per user emoji usage"
   ]
  },
  {
   "cell_type": "code",
   "execution_count": null,
   "metadata": {},
   "outputs": [],
   "source": [
    "people = df['from'].unique()\n",
    "\n",
    "for name in people:\n",
    "    user_df = df[df[\"from\"] == name]\n",
    "    total_emojis_list = list(user_df.emojis)\n",
    "    emoji_dict = dict(Counter(total_emojis_list))\n",
    "    emoji_dict = sorted(emoji_dict.items(), key=lambda x: x[1], reverse=True)\n",
    "\n",
    "    emoji_df = pd.DataFrame(emoji_dict, columns=['emoji', 'count'])\n",
    "    emoji_df.replace(to_replace='None', value=numpy.nan).dropna()\n",
    "    emoji_df.replace(to_replace=0, value=numpy.nan).dropna()\n",
    "\n",
    "    import plotly.express as px\n",
    "    fig = px.pie(emoji_df.loc[2:].head(60), values='count', names='emoji',title='Emoji Distribution for ' + name)\n",
    "    fig.update_traces(textposition='inside', textinfo='percent+label')\n",
    "    fig.show()"
   ]
  },
  {
   "cell_type": "markdown",
   "metadata": {},
   "source": [
    "Let's now check for a word cloud of all of our messages."
   ]
  },
  {
   "cell_type": "code",
   "execution_count": null,
   "metadata": {},
   "outputs": [],
   "source": [
    "text_df = df.text.dropna()\n",
    "text = \" \".join(review for review in df.text.dropna() if review is not None and type(review) == str)\n",
    "print (\"There are {} words in all the messages.\".format(len(text)))\n",
    "\n",
    "stopwords = set(STOPWORDS)\n",
    "# Additionally, there is a file in this repo that contains the spanish stopwords that can be appended to the wordcloud library\n",
    "stopwords.update([\"pero\", \"en\", \"que\", \"lo\", \"de\", \"si\", \"con\",\"jajaja\",\"Jajajaja\",\"se\",\"tengo\",\"por\", \"la\", \"el\", \"ya\", \"los\", \"es\", \"tiene\", \"como\",\"mi\",\"te\",\"un\",\"esta\",\"del\", \"tu\", \"Yo\",\"eso\", \"pue\",\"para\",\"las\",\"porque\",\"al\",\"Jajajajaja\",\"bueno\",\"al\",\"donde\",\"ese\",\"son\",\"una\",\"jaja\",\"ese\",\"sí\",\"son\",\"le\",\"está\",\"estaba\",\"dice\",\"creo\"])\n",
    "# Generate a word cloud image\n",
    "wordcloud = WordCloud(stopwords=stopwords, background_color=\"white\").generate(text)\n",
    "# Display the generated image:\n",
    "# the matplotlib way:\n",
    "\n",
    "pyplot.figure( figsize=(10,5))\n",
    "pyplot.imshow(wordcloud, interpolation='bilinear')\n",
    "pyplot.axis(\"off\")\n",
    "pyplot.show()"
   ]
  },
  {
   "cell_type": "code",
   "execution_count": null,
   "metadata": {},
   "outputs": [],
   "source": []
  }
 ],
 "metadata": {
  "kernelspec": {
   "display_name": "Python 3",
   "language": "python",
   "name": "python3"
  },
  "language_info": {
   "codemirror_mode": {
    "name": "ipython",
    "version": 3
   },
   "file_extension": ".py",
   "mimetype": "text/x-python",
   "name": "python",
   "nbconvert_exporter": "python",
   "pygments_lexer": "ipython3",
   "version": "3.8.5"
  }
 },
 "nbformat": 4,
 "nbformat_minor": 1
}